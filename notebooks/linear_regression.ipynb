{
  "nbformat": 4,
  "nbformat_minor": 0,
  "metadata": {
    "colab": {
      "provenance": []
    },
    "kernelspec": {
      "name": "python3",
      "display_name": "Python 3"
    },
    "language_info": {
      "name": "python"
    }
  },
  "cells": [
    {
      "cell_type": "markdown",
      "source": [
        "Linear Regression\n",
        "Basic implementation of simple linear regression using the least squares method"
      ],
      "metadata": {
        "id": "7Mmmyayp7s0L"
      }
    },
    {
      "cell_type": "code",
      "source": [
        "import numpy as np\n",
        "\n",
        "class LinearRegression:\n",
        "  def __init__(self):\n",
        "    self.slope = None # m\n",
        "    self.intercept = None # b\n",
        "\n",
        "  def fit(self, X, y):\n",
        "    n = X.shape[0] # or we can also take len(X)\n",
        "    x_mean = np.mean(X)\n",
        "    y_mean = np.mean(y)\n",
        "\n",
        "    num = 0\n",
        "    den = 0\n",
        "\n",
        "    for i in range(n):\n",
        "      num = num + ((X[i] - x_mean) * (y[i] - y_mean))\n",
        "      den = den + (X[i] - x_mean) ** 2\n",
        "\n",
        "    self.slope = num / den\n",
        "    self.intercept =  y_mean - (self.slope * x_mean)\n",
        "\n",
        "  def predict(self, X):\n",
        "    y_pred = []\n",
        "\n",
        "    for x in X:\n",
        "      y_pred.append(self.slope * x + self.intercept)\n",
        "    return y_pred"
      ],
      "metadata": {
        "id": "aFxnnxGf7u_m"
      },
      "execution_count": null,
      "outputs": []
    },
    {
      "cell_type": "code",
      "source": [
        "X = np.array([1, 2, 3, 4, 5])\n",
        "y = np.array([2, 4, 5, 4, 5])\n",
        "lr = LinearRegression()\n",
        "lr.fit(X,y)\n",
        "print('Slope (m) = ', lr.slope)\n",
        "print('Intercept (b) = ', lr.intercept)\n",
        "y_pred = lr.predict(X)\n",
        "print('y_pred =', y_pred)\n"
      ],
      "metadata": {
        "colab": {
          "base_uri": "https://localhost:8080/"
        },
        "id": "V7xztH2I-Uu7",
        "outputId": "34b75e6a-cdad-485f-e7ab-c6265fe8137e"
      },
      "execution_count": null,
      "outputs": [
        {
          "output_type": "stream",
          "name": "stdout",
          "text": [
            "Slope (m) =  0.6\n",
            "Intercept (b) =  2.2\n",
            "y_pred = [2.8000000000000003, 3.4000000000000004, 4.0, 4.6, 5.2]\n"
          ]
        }
      ]
    },
    {
      "cell_type": "markdown",
      "source": [
        "Vectorized formula\n",
        "\n",
        "y = x.w\n",
        "\n",
        "w = (X^T . X)^(-1) X^T . y"
      ],
      "metadata": {
        "id": "5UiBg5p5Eq3p"
      }
    },
    {
      "cell_type": "code",
      "source": [
        "class LinearRegression:\n",
        "  def __init__(self):\n",
        "    self.w = None\n",
        "\n",
        "  def fit(self, X, y):\n",
        "    n = X.shape[0]\n",
        "    # Add bias term using column wise concatination X -> [1 X]\n",
        "    X = np.c_[np.ones(n), X]\n",
        "    self.w = np.linalg.inv(X.T.dot(X)).dot(X.T).dot(y)\n",
        "\n",
        "  def predict(self, X):\n",
        "    # Add bias term using column wise concatination\n",
        "    X = np.c_[np.ones(X.shape[0]), X]\n",
        "    y_pred = X.dot(self.w)\n",
        "    return y_pred"
      ],
      "metadata": {
        "id": "CUfBYJlJJe6Z"
      },
      "execution_count": null,
      "outputs": []
    },
    {
      "cell_type": "code",
      "source": [
        "# Create example input data\n",
        "X = np.array([[2, 2], [4, 5], [7, 8]])\n",
        "y = np.array([9, 17, 26])\n",
        "\n",
        "lr = LinearRegression()\n",
        "lr.fit(X, y)\n",
        "print('w =', lr.w)\n",
        "y_pred = lr.predict(X)\n",
        "print('y_pred =', y_pred)\n",
        "\n",
        "X_new = np.array([[10, 11], [13, 14]])\n",
        "y_pred = lr.predict(X_new)\n",
        "print('new_y_pred =', y_pred)"
      ],
      "metadata": {
        "colab": {
          "base_uri": "https://localhost:8080/"
        },
        "id": "UXoq2cfrK-cr",
        "outputId": "a0bdd92f-273f-446d-c1c5-59ef390c6e07"
      },
      "execution_count": null,
      "outputs": [
        {
          "output_type": "stream",
          "name": "stdout",
          "text": [
            "w = [3. 1. 2.]\n",
            "y_pred = [ 9. 17. 26.]\n",
            "new_y_pred = [35. 44.]\n"
          ]
        }
      ]
    },
    {
      "cell_type": "markdown",
      "source": [
        "Improved version of LR using regularization, cost function, Gradient descent"
      ],
      "metadata": {
        "id": "RBvmQ2Zdj22K"
      }
    },
    {
      "cell_type": "code",
      "source": [
        "import numpy as np\n",
        "\n",
        "class LinearRegressionGD:\n",
        "  def __init__(self, regularization = 0):\n",
        "    self.regularization = regularization\n",
        "    self.W = None\n",
        "\n",
        "  def fit(self, X, y, lr = 0.01, epochs = 1000):\n",
        "    # X: n x d\n",
        "    # Add bias term to X using column wise concatination\n",
        "    X = np.c_[np.ones(X.shape[0]), X]\n",
        "\n",
        "    # Take W with all zeros in d dimensions\n",
        "    self.W = np.zeros(X.shape[1])\n",
        "\n",
        "    for i in range(epochs):\n",
        "\n",
        "      # cal the predicted y value\n",
        "      y_pred = np.dot(X, self.W)\n",
        "\n",
        "      # cal the cost function using ridge regression loss function\n",
        "      cost = np.sum(y_pred - y) ** 2 + self.regularization * np.sum(self.W) ** 2\n",
        "\n",
        "      # cal gradient descent\n",
        "      gradient = 2 * np.dot(X.T, (y_pred - y)) + 2 * self.regularization * self.W\n",
        "\n",
        "      # update W\n",
        "      self.W = self.W - lr * gradient\n",
        "\n",
        "      if (i % 1000 == 0):\n",
        "        print('cost after 1000 epochs =', cost)\n",
        "\n",
        "  def predict(self, X):\n",
        "    # Add bias term to X\n",
        "    X = np.c_[np.ones(X.shape[0]), X]\n",
        "    y_pred = np.dot(X, self.W)\n",
        "    return y_pred\n"
      ],
      "metadata": {
        "id": "i2HnVgAYLhju"
      },
      "execution_count": null,
      "outputs": []
    },
    {
      "cell_type": "code",
      "source": [
        "X = np.array([[1, 2, 3, 4, 5]]).T\n",
        "y = np.array([2, 4, 5, 4, 5])\n",
        "lr = LinearRegressionGD(regularization = 0.1)\n",
        "lr.fit(X, y, lr=0.01, epochs=10000)\n",
        "print('W =', lr.W)\n",
        "y_pred = lr.predict(X)\n",
        "print('y_pred =', y_pred)"
      ],
      "metadata": {
        "colab": {
          "base_uri": "https://localhost:8080/"
        },
        "id": "vOqQ4tTWnXBr",
        "outputId": "f28e6723-e8cb-49bf-8109-5082985ce396"
      },
      "execution_count": null,
      "outputs": [
        {
          "output_type": "stream",
          "name": "stdout",
          "text": [
            "cost after 1000 epochs = 400.0\n",
            "cost after 1000 epochs = 0.743878437665564\n",
            "cost after 1000 epochs = 0.7438784380617116\n",
            "cost after 1000 epochs = 0.7438784380617116\n",
            "cost after 1000 epochs = 0.7438784380617116\n",
            "cost after 1000 epochs = 0.7438784380617116\n",
            "cost after 1000 epochs = 0.7438784380617116\n",
            "cost after 1000 epochs = 0.7438784380617116\n",
            "cost after 1000 epochs = 0.7438784380617116\n",
            "cost after 1000 epochs = 0.7438784380617116\n",
            "W = [1.99964292 0.65345474]\n",
            "y_pred = [2.65309766 3.3065524  3.96000714 4.61346188 5.26691662]\n"
          ]
        }
      ]
    },
    {
      "cell_type": "markdown",
      "source": [
        "The model is converging:\n",
        "\n",
        "    The cost function initially decreases rapidly, indicating that the gradient descent is working.\n",
        "    After some point, the cost stops decreasing, which suggests that the model has reached a minimum (either global or local).\n",
        "\n",
        "Gradient updates are very small:\n",
        "\n",
        "    The last few values are almost identical, meaning the weight updates are too small to change the cost.\n",
        "    This usually happens when the model has learned well or reached numerical precision limits.\n",
        "\n",
        "Possible early stopping point:\n",
        "\n",
        "    Since the cost is no longer improving, continuing training won’t help.\n",
        "    You could add an early stopping condition (e.g., stop training if the cost changes by less than a small threshold like 10−610−6)."
      ],
      "metadata": {
        "id": "LbxtJcGEsMVT"
      }
    },
    {
      "cell_type": "markdown",
      "source": [
        "Visualization"
      ],
      "metadata": {
        "id": "GoQzNPhzsuWW"
      }
    },
    {
      "cell_type": "code",
      "source": [
        "import matplotlib.pyplot as plt\n",
        "\n",
        "plt.scatter(X, y, color = 'red')\n",
        "plt.plot(X, y_pred, color = 'blue')\n",
        "plt.xlabel('X')\n",
        "plt.ylabel('y')\n",
        "plt.title('Linear Regression')\n",
        "plt.show()"
      ],
      "metadata": {
        "colab": {
          "base_uri": "https://localhost:8080/",
          "height": 472
        },
        "id": "ImJLoV9poFTc",
        "outputId": "5e5984a3-d9e6-437d-99a5-7984d1e0a533"
      },
      "execution_count": null,
      "outputs": [
        {
          "output_type": "display_data",
          "data": {
            "text/plain": [
              "<Figure size 640x480 with 1 Axes>"
            ],
            "image/png": "[encoded data removed]"
          },
          "metadata": {}
        }
      ]
    },
    {
      "cell_type": "code",
      "source": [],
      "metadata": {
        "id": "CHEhgKA6tt_E"
      },
      "execution_count": null,
      "outputs": []
    }
  ]
}