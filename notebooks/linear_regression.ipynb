{
  "cells": [
    {
      "cell_type": "markdown",
      "metadata": {
        "id": "7Mmmyayp7s0L"
      },
      "source": [
        "# Linear Regression \n",
        "\n",
        "Linear regression is a statistical method used to model the relationship between a dependent variable (often denoted as \"y\") and one or more independent variables (often denoted as \"x\"). The basic idea of linear regression is to find the straight line that best fits the data points in a scatter plot.\n",
        "\n",
        "The most common form of linear regression is simple linear regression, which models the relationship between two variables:\n",
        "\n",
        "$\\hat{y} = mx + b$\n",
        "\n",
        "where $\\hat{y}$ is the predicted value, $x$ is the independent variable, $m$ is the slope, and $b$ is the intercept. \n",
        "\n",
        "Given a set of input data ($\\{x_i, y_i\\}$), the goal of linear regression is to find the values of $m$ and $b$ that best fit the data\n",
        "\n",
        "\n",
        "The values of $m$ and $b$ are chosen to minimize the ***sum of squared errors***.\n",
        "\n",
        "$SSE = \\sum (y_i - \\hat{y_i})^2$\n",
        "\n",
        "substituting $\\hat{y}_i = m x_i + b$:\n",
        "\n",
        "$$\n",
        "SSE = \\sum (y_i - (m x_i + b))^2\n",
        "$$\n",
        "\n",
        "\n",
        "To minimize $SSE$, we take the partial derivatives with respect to $m$ and $b$ and set them equal to 0.\n",
        "\n",
        "### **Derivative with Respect to $b$:**\n",
        "\n",
        "$$\n",
        "\\frac{\\partial SSE}{\\partial b} = \\sum 2 (y_i - (m x_i + b)) (-1) = -2 \\sum (y_i - m x_i - b) = 0\n",
        "$$\n",
        "\n",
        "Dividing by $-2$:\n",
        "\n",
        "$$\n",
        "\\sum (y_i - m x_i - b) = 0\n",
        "$$\n",
        "\n",
        "Rearranging:\n",
        "\n",
        "$$\n",
        "\\sum y_i = m \\sum x_i + b \\sum 1\n",
        "$$\n",
        "\n",
        "Since $\\sum 1 = n$, we get:\n",
        "\n",
        "$$\n",
        "\\sum y_i = m \\sum x_i + n b\n",
        "$$\n",
        "\n",
        "Dividing by $n$:\n",
        "\n",
        "$$\n",
        "b = \\frac{\\sum y_i}{n} - m \\frac{\\sum x_i}{n}\n",
        "$$\n",
        "\n",
        "Since $x_{\\text{mean}} = \\frac{\\sum x_i}{n}$ and $y_{\\text{mean}} = \\frac{\\sum y_i}{n}$, this simplifies to:\n",
        "\n",
        "$$\n",
        "b = y_{\\text{mean}} - m x_{\\text{mean}}\n",
        "$$\n",
        "\n",
        "### **Derivative with Respect to $m$:**\n",
        "\n",
        "$$\n",
        "\\frac{\\partial SSE}{\\partial m} = \\sum 2 (y_i - (m x_i + b)) (-x_i) = -2 \\sum x_i (y_i - m x_i - b) = 0\n",
        "$$\n",
        "\n",
        "Dividing by $-2$:\n",
        "\n",
        "$$\n",
        "\\sum x_i (y_i - m x_i - b) = 0\n",
        "$$\n",
        "\n",
        "Expanding:\n",
        "\n",
        "$$\n",
        "\\sum x_i y_i - m \\sum x_i^2 - b \\sum x_i = 0\n",
        "$$\n",
        "\n",
        "Substituting $b = y_{\\text{mean}} - m x_{\\text{mean}}$:\n",
        "\n",
        "$$\n",
        "\\sum x_i y_i - m \\sum x_i^2 - (y_{\\text{mean}} - m x_{\\text{mean}}) \\sum x_i = 0\n",
        "$$\n",
        "\n",
        "Rearranging:\n",
        "\n",
        "$$\n",
        "\\sum x_i y_i - y_{\\text{mean}} \\sum x_i = m \\left( \\sum x_i^2 - x_{\\text{mean}} \\sum x_i \\right)\n",
        "$$\n",
        "\n",
        "Dividing by $\\sum x_i^2 - x_{\\text{mean}} \\sum x_i$:\n",
        "\n",
        "$$\n",
        "m = \\frac{\\sum x_i y_i - y_{\\text{mean}} \\sum x_i}{\\sum x_i^2 - x_{\\text{mean}} \\sum x_i}\n",
        "$$\n",
        "\n",
        "Using the mean-centered formulation:\n",
        "\n",
        "$$\n",
        "m = \\frac{\\sum (x_i - x_{\\text{mean}})(y_i - y_{\\text{mean}})}{\\sum (x_i - x_{\\text{mean}})^2}\n",
        "$$\n",
        "\n",
        "Thus, the best-fit parameters for simple linear regression are:\n",
        "\n",
        "$$\n",
        "\\boxed{m = \\frac{\\sum (x_i - x_{\\text{mean}})(y_i - y_{\\text{mean}})}{\\sum (x_i - x_{\\text{mean}})^2}}\n",
        "$$\n",
        "\n",
        "$$\n",
        "\\boxed{b = y_{\\text{mean}} - m x_{\\text{mean}}}\n",
        "$$\n",
        "\n",
        "Multiple linear regression is a more general form of linear regression that models the relationship between multiple independent variables and one dependent variable. The formula for the best-fit hyperplane in multiple linear regression is:\n",
        "\n",
        "$$\n",
        "y = w_0 + w_1 x_1 + w_2 x_2 + \\dots + w_n x_n\n",
        "$$\n",
        "\n",
        "where:\n",
        "\n",
        "- $Y$ is the dependent variable (output).\n",
        "- $x_1, x_2, \\dots, x_n$ are the independent variables (input features).\n",
        "- $w_0$ is the **intercept** (bias term).\n",
        "- $w_1, w_2, \\dots, w_n$ are the **weights (coefficients)** that determine the influence of each feature.\n",
        "\n",
        "or, in vectorized form:\n",
        "\n",
        "$$\n",
        "Y = X W\n",
        "$$\n",
        "\n",
        "where:\n",
        "- $Y$ is an  $m \\times 1$ vector (outputs for all data points),\n",
        "- $X$ is an  $m \\times (n+1)$ **design matrix** (including the intercept column),\n",
        "- $W$ is an  $(n+1) \\times 1$ vector of weights.\n",
        "\n",
        "- $X$ is typically represented as:\n",
        "\n",
        "  $$\n",
        "  X =\n",
        "  \\begin{bmatrix}\n",
        "  1 & x_{11} & x_{12} & \\dots & x_{1n} \\\\\n",
        "  1 & x_{21} & x_{22} & \\dots & x_{2n} \\\\\n",
        "  \\vdots & \\vdots & \\vdots & \\dots & \\vdots \\\\\n",
        "  1 & x_{m1} & x_{m2} & \\dots & x_{mn}\n",
        "  \\end{bmatrix}\n",
        "  $$\n",
        "\n",
        "  where each row represents a data sample, and the first column of ones accounts for the intercept term $w_0$.\n",
        "\n",
        "- $W$ is the **weight vector**:\n",
        "\n",
        "  $$\n",
        "  W =\n",
        "  \\begin{bmatrix}\n",
        "  w_0 \\\\\n",
        "  w_1 \\\\\n",
        "  w_2 \\\\\n",
        "  \\vdots \\\\\n",
        "  w_n\n",
        "  \\end{bmatrix}\n",
        "  $$\n"
      ]
    },
    {
      "cell_type": "markdown",
      "metadata": {},
      "source": [
        "## Code \n",
        "### Simple linear regression \n",
        "Here is a basic implementation of simple linear regression in Python using the least squares method:"
      ]
    },
    {
      "cell_type": "code",
      "execution_count": 18,
      "metadata": {
        "id": "aFxnnxGf7u_m"
      },
      "outputs": [],
      "source": [
        "import numpy as np\n",
        "\n",
        "\n",
        "class LinearRegression:\n",
        "    def __init__(self):\n",
        "        self.slope = None  # m\n",
        "        self.intercept = None  # b\n",
        "\n",
        "    def fit(self, X, y):\n",
        "        n = X.shape[0]  # or we can also take len(X)\n",
        "        x_mean = np.mean(X)\n",
        "        y_mean = np.mean(y)\n",
        "\n",
        "        num = 0\n",
        "        den = 0\n",
        "\n",
        "        for i in range(n):\n",
        "            num = num + ((X[i] - x_mean) * (y[i] - y_mean))\n",
        "            den = den + (X[i] - x_mean) ** 2\n",
        "\n",
        "        self.slope = num / den\n",
        "        self.intercept = y_mean - (self.slope * x_mean)\n",
        "\n",
        "    def predict(self, X):\n",
        "        y_pred = []\n",
        "\n",
        "        for x in X:\n",
        "            y_pred.append(self.slope * x + self.intercept)\n",
        "        return y_pred\n",
        "        # return np.array(y_pred)"
      ]
    },
    {
      "cell_type": "code",
      "execution_count": 19,
      "metadata": {
        "colab": {
          "base_uri": "https://localhost:8080/"
        },
        "id": "V7xztH2I-Uu7",
        "outputId": "34b75e6a-cdad-485f-e7ab-c6265fe8137e"
      },
      "outputs": [
        {
          "name": "stdout",
          "output_type": "stream",
          "text": [
            "Slope (m) =  0.6\n",
            "Intercept (b) =  2.2\n",
            "y_pred = [2.8000000000000003, 3.4000000000000004, 4.0, 4.6, 5.2]\n"
          ]
        }
      ],
      "source": [
        "X = np.array([1, 2, 3, 4, 5])\n",
        "y = np.array([2, 4, 5, 4, 5])\n",
        "lr = LinearRegression()\n",
        "lr.fit(X, y)\n",
        "print(\"Slope (m) = \", lr.slope)\n",
        "print(\"Intercept (b) = \", lr.intercept)\n",
        "y_pred = lr.predict(X)\n",
        "print(\"y_pred =\", y_pred)\n",
        "# print(y_pred.shape)"
      ]
    },
    {
      "cell_type": "markdown",
      "metadata": {
        "id": "5UiBg5p5Eq3p"
      },
      "source": [
        "### Derivation of the Vectorized Linear Regression Formula\n",
        "\n",
        "To derive the closed-form solution for the weights W in linear regression using the least squares method.\n",
        "\n",
        "#### **1. Linear Regression Model**\n",
        "The linear regression model can be written in a vectorized form as:\n",
        "\n",
        "$$\n",
        "y = XW\n",
        "$$\n",
        "\n",
        "where:\n",
        "- X is an $(n \\times d)$ matrix (with  n samples and  d features),\n",
        "- W is a $(d \\times 1)$ column vector of model parameters (weights),\n",
        "- y is an $(n \\times 1)$ column vector of target values.\n",
        "\n",
        "#### **2. Loss Function (Least Squares Error)**\n",
        "We use the mean squared error (MSE) loss function:\n",
        "\n",
        "$$\n",
        "L(W) = \\sum_{i=1}^{n} (y_i - X_i W)^2\n",
        "$$\n",
        "\n",
        "which can be written in matrix form as:\n",
        "\n",
        "$$\n",
        "L(W) = (y - XW)^T (y - XW)\n",
        "$$\n",
        "\n",
        "Expanding this:\n",
        "\n",
        "$$\n",
        "L(W) = y^T y - 2 W^T X^T y + W^T X^T X W\n",
        "$$\n",
        "\n",
        "#### **3. Compute the Gradient**\n",
        "To minimize L(W), we take the derivative with respect to  W:\n",
        "\n",
        "$$\n",
        "\\frac{dL}{dW} = -2X^T y + 2X^T X W\n",
        "$$\n",
        "\n",
        "Setting the gradient to zero:\n",
        "\n",
        "$$\n",
        "-2X^T y + 2X^T X W = 0\n",
        "$$\n",
        "\n",
        "$$\n",
        "X^T X W = X^T y\n",
        "$$\n",
        "\n",
        "#### **4. Solve for W**\n",
        "If $X^T X$ is invertible, we multiply both sides by $(X^T X)^{-1}$:\n",
        "\n",
        "$$\n",
        "W = (X^T X)^{-1} X^T y\n",
        "$$\n",
        "\n",
        "#### **Final Vectorized Solution**\n",
        "$$\n",
        "\\boxed{W = (X^T X)^{-1} X^T y}\n",
        "$$\n",
        "\n",
        "This is the closed-form solution for the optimal weights in ordinary least squares (OLS) regression.\n"
      ]
    },
    {
      "cell_type": "code",
      "execution_count": 20,
      "metadata": {
        "id": "CUfBYJlJJe6Z"
      },
      "outputs": [],
      "source": [
        "class LinearRegression:\n",
        "    def __init__(self):\n",
        "        self.W = None\n",
        "\n",
        "    def fit(self, X, y):\n",
        "        n = X.shape[0]\n",
        "        # Add bias term using column wise concatination X -> [1 X]\n",
        "        X = np.c_[np.ones(n), X]\n",
        "        self.W = np.linalg.inv(X.T.dot(X)).dot(X.T).dot(y)\n",
        "\n",
        "    def predict(self, X):\n",
        "        # Add bias term using column wise concatination\n",
        "        X = np.c_[np.ones(X.shape[0]), X]\n",
        "        y_pred = X.dot(self.W)\n",
        "        return y_pred"
      ]
    },
    {
      "cell_type": "code",
      "execution_count": 21,
      "metadata": {
        "colab": {
          "base_uri": "https://localhost:8080/"
        },
        "id": "UXoq2cfrK-cr",
        "outputId": "a0bdd92f-273f-446d-c1c5-59ef390c6e07"
      },
      "outputs": [
        {
          "name": "stdout",
          "output_type": "stream",
          "text": [
            "W = [3. 1. 2.]\n",
            "y_pred = [ 9. 17. 26.]\n",
            "new_y_pred = [35. 44.]\n"
          ]
        }
      ],
      "source": [
        "# Create example input data\n",
        "X = np.array([[2, 2], [4, 5], [7, 8]])\n",
        "y = np.array([9, 17, 26])\n",
        "\n",
        "lr = LinearRegression()\n",
        "lr.fit(X, y)\n",
        "print(\"W =\", lr.W)\n",
        "y_pred = lr.predict(X)\n",
        "print(\"y_pred =\", y_pred)\n",
        "\n",
        "X_new = np.array([[10, 11], [13, 14]])\n",
        "y_pred = lr.predict(X_new)\n",
        "print(\"new_y_pred =\", y_pred)"
      ]
    },
    {
      "cell_type": "markdown",
      "metadata": {
        "id": "RBvmQ2Zdj22K"
      },
      "source": [
        "### Improvements \n",
        "here are some improvements to the simple linear regression implementation to make it more robust:\n",
        "\n",
        "1. Add input **validation**: Add input validation to check that the input arrays $X$ and $y$ have the same length and are not empty.\n",
        "\n",
        "2. Use NumPy broadcasting: Instead of looping through the data to calculate the numerator and denominator, we can use NumPy broadcasting to perform the calculations in a vectorized way. This will make the code faster and more efficient.\n",
        "\n",
        "3. Add **regularization**: Regularization can help prevent overfitting by adding a penalty term to the cost function. One common regularization technique is L2 regularization, which adds the sum of squares of the coefficients to the cost function. This can be easily added to the code by adding a regularization parameter to the constructor.\n",
        "\n",
        "4. Use **gradient descent**: For large datasets, calculating the inverse of the matrix in the normal equation can be computationally expensive. To overcome this, we can use gradient descent to minimize the cost function. This can be implemented by adding a method that updates the coefficients iteratively using the gradient descent algorithm.\n",
        "\n",
        "Here's the updated code that incorporates these improvements:"
      ]
    },
    {
      "cell_type": "code",
      "execution_count": 22,
      "metadata": {
        "id": "i2HnVgAYLhju"
      },
      "outputs": [],
      "source": [
        "import numpy as np\n",
        "\n",
        "\n",
        "class LinearRegressionGD:\n",
        "    def __init__(self, regularization=0):\n",
        "        self.regularization = regularization\n",
        "        self.W = None\n",
        "\n",
        "    def fit(self, X, y, lr=0.01, epochs=1000):\n",
        "        # X: n x d\n",
        "        # Add bias term to X using column wise concatination\n",
        "        X = np.c_[np.ones(X.shape[0]), X]\n",
        "\n",
        "        # Take W with all zeros in d dimensions\n",
        "        self.W = np.zeros(X.shape[1])\n",
        "\n",
        "        for i in range(epochs):\n",
        "\n",
        "            # cal the predicted y value\n",
        "            y_pred = np.dot(X, self.W)\n",
        "\n",
        "            # cal the cost function using ridge regression loss function\n",
        "            cost = np.sum(y_pred - y) ** 2 + self.regularization * np.sum(self.W) ** 2\n",
        "\n",
        "            # cal gradient descent\n",
        "            gradient = 2 * np.dot(X.T, (y_pred - y)) + 2 * self.regularization * self.W\n",
        "\n",
        "            # update W\n",
        "            self.W = self.W - lr * gradient\n",
        "\n",
        "            if i % 1000 == 0:\n",
        "                print(\"cost after 1000 epochs =\", cost)\n",
        "\n",
        "    def predict(self, X):\n",
        "        # Add bias term to X\n",
        "        X = np.c_[np.ones(X.shape[0]), X]\n",
        "        y_pred = np.dot(X, self.W)\n",
        "        return y_pred"
      ]
    },
    {
      "cell_type": "markdown",
      "metadata": {},
      "source": [
        "### Test"
      ]
    },
    {
      "cell_type": "code",
      "execution_count": 23,
      "metadata": {
        "colab": {
          "base_uri": "https://localhost:8080/"
        },
        "id": "vOqQ4tTWnXBr",
        "outputId": "f28e6723-e8cb-49bf-8109-5082985ce396"
      },
      "outputs": [
        {
          "name": "stdout",
          "output_type": "stream",
          "text": [
            "cost after 1000 epochs = 400.0\n",
            "cost after 1000 epochs = 0.7438784376655634\n",
            "cost after 1000 epochs = 0.7438784380617114\n",
            "cost after 1000 epochs = 0.7438784380617114\n",
            "cost after 1000 epochs = 0.7438784380617114\n",
            "cost after 1000 epochs = 0.7438784380617114\n",
            "cost after 1000 epochs = 0.7438784380617114\n",
            "cost after 1000 epochs = 0.7438784380617114\n",
            "cost after 1000 epochs = 0.7438784380617114\n",
            "cost after 1000 epochs = 0.7438784380617114\n",
            "W = [1.99964292 0.65345474]\n",
            "y_pred = [2.65309766 3.3065524  3.96000714 4.61346188 5.26691662]\n"
          ]
        }
      ],
      "source": [
        "X = np.array([[1, 2, 3, 4, 5]]).T\n",
        "y = np.array([2, 4, 5, 4, 5])\n",
        "lr = LinearRegressionGD(regularization=0.1)\n",
        "lr.fit(X, y, lr=0.01, epochs=10000)\n",
        "print(\"W =\", lr.W)\n",
        "y_pred = lr.predict(X)\n",
        "print(\"y_pred =\", y_pred)"
      ]
    },
    {
      "cell_type": "markdown",
      "metadata": {
        "id": "LbxtJcGEsMVT"
      },
      "source": [
        "The model is converging:\n",
        "- The cost function initially decreases rapidly, indicating that the gradient descent is working.\n",
        "- After some point, the cost stops decreasing, which suggests that the model has reached a minimum (either global or local).\n",
        "\n",
        "Gradient updates are very small:\n",
        "- The last few values are almost identical, meaning the weight updates are too small to change the cost.\n",
        "- This usually happens when the model has learned well or reached numerical precision limits.\n",
        "\n",
        "Possible early stopping point:\n",
        "- Since the cost is no longer improving, continuing training won’t help.\n",
        "- You could add an early stopping condition (e.g., stop training if the cost changes by less than a small threshold like 10−610−6)."
      ]
    },
    {
      "cell_type": "markdown",
      "metadata": {
        "id": "GoQzNPhzsuWW"
      },
      "source": [
        "Visualization"
      ]
    },
    {
      "cell_type": "code",
      "execution_count": 27,
      "metadata": {
        "colab": {
          "base_uri": "https://localhost:8080/",
          "height": 472
        },
        "id": "ImJLoV9poFTc",
        "outputId": "5e5984a3-d9e6-437d-99a5-7984d1e0a533"
      },
      "outputs": [
        {
          "data": {
            "image/png": "[encoded data removed]",
            "text/plain": [
              "<Figure size 640x480 with 1 Axes>"
            ]
          },
          "metadata": {},
          "output_type": "display_data"
        }
      ],
      "source": [
        "import matplotlib.pyplot as plt\n",
        "\n",
        "plt.scatter(X, y, color=\"red\")\n",
        "plt.plot(X, y_pred, color=\"blue\")\n",
        "plt.xlabel(\"X\")\n",
        "plt.ylabel(\"y\")\n",
        "plt.title(\"Linear Regression\")\n",
        "plt.show()"
      ]
    }
  ],
  "metadata": {
    "colab": {
      "provenance": []
    },
    "kernelspec": {
      "display_name": "Python 3",
      "language": "python",
      "name": "python3"
    },
    "language_info": {
      "codemirror_mode": {
        "name": "ipython",
        "version": 3
      },
      "file_extension": ".py",
      "mimetype": "text/x-python",
      "name": "python",
      "nbconvert_exporter": "python",
      "pygments_lexer": "ipython3",
      "version": "3.9.6"
    }
  },
  "nbformat": 4,
  "nbformat_minor": 0
}
